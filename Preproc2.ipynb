{
 "cells": [
  {
   "cell_type": "code",
   "execution_count": 3,
   "metadata": {},
   "outputs": [],
   "source": [
    "import numpy as np\n",
    "import gc;from datetime import datetime;import pandas as pd\n",
    "import warnings;warnings.simplefilter(action='ignore', category=Warning)"
   ]
  },
  {
   "cell_type": "code",
   "execution_count": 4,
   "metadata": {},
   "outputs": [],
   "source": [
    "file_path = 'C:/temp/clean_zzz.csv'\n",
    "zzz = pd.read_csv(file_path)"
   ]
  },
  {
   "cell_type": "code",
   "execution_count": 5,
   "metadata": {},
   "outputs": [],
   "source": [
    "# creating possible time covariates for model \n",
    "start_time = datetime.strptime(zzz['timestamp'].iloc[0], '%Y-%m-%dT%H:%M:%S%z')\n",
    "zzz['seconds_since_start'] = zzz['timestamp'].apply(lambda x: (datetime.strptime(x, '%Y-%m-%dT%H:%M:%S%z') - start_time).seconds)\n",
    "zzz = zzz.drop(columns=['timestamp', 'step'])"
   ]
  },
  {
   "cell_type": "code",
   "execution_count": 8,
   "metadata": {},
   "outputs": [],
   "source": [
    "# sorte by time series_id & seconds_since_start\n",
    "zzz_timesort = zzz.sort_values(by=['series_id', 'seconds_since_start'])"
   ]
  },
  {
   "cell_type": "code",
   "execution_count": 9,
   "metadata": {},
   "outputs": [],
   "source": [
    "# Standardize feats: time,anglez & enmo \n",
    "zzz_timesort['anglez_std'] = (zzz_timesort['anglez'] - zzz_timesort['anglez'].mean()) / zzz_timesort['anglez'].std()\n",
    "zzz_timesort['enmo_std'] = (zzz_timesort['enmo'] - zzz_timesort['enmo'].mean()) / zzz_timesort['enmo'].std()\n",
    "zzz_timesort['sss_std'] = (zzz_timesort['seconds_since_start'] - zzz_timesort['seconds_since_start'].mean()) / zzz_timesort['seconds_since_start'].std()\n",
    "\n",
    "# #set for Linear Model\n",
    "feats = [col for col in zzz_timesort.columns if 'std' in col]\n",
    "X = zzz_timesort[feats]\n",
    "y = zzz_timesort['awake']\n",
    "\n",
    "# split the data (79-21)\n",
    "train_size = int(0.79 * len(zzz_timesort))\n",
    "X_train, X_test = X.iloc[:train_size], X.iloc[train_size:]\n",
    "y_train, y_test = y.iloc[:train_size], y.iloc[train_size:]"
   ]
  },
  {
   "cell_type": "code",
   "execution_count": 14,
   "metadata": {},
   "outputs": [
    {
     "data": {
      "text/html": [
       "<div>\n",
       "<style scoped>\n",
       "    .dataframe tbody tr th:only-of-type {\n",
       "        vertical-align: middle;\n",
       "    }\n",
       "\n",
       "    .dataframe tbody tr th {\n",
       "        vertical-align: top;\n",
       "    }\n",
       "\n",
       "    .dataframe thead th {\n",
       "        text-align: right;\n",
       "    }\n",
       "</style>\n",
       "<table border=\"1\" class=\"dataframe\">\n",
       "  <thead>\n",
       "    <tr style=\"text-align: right;\">\n",
       "      <th></th>\n",
       "      <th>anglez_std</th>\n",
       "      <th>enmo_std</th>\n",
       "      <th>sss_std</th>\n",
       "    </tr>\n",
       "  </thead>\n",
       "  <tbody>\n",
       "    <tr>\n",
       "      <th>count</th>\n",
       "      <td>1.040079e+07</td>\n",
       "      <td>1.040079e+07</td>\n",
       "      <td>1.040079e+07</td>\n",
       "    </tr>\n",
       "    <tr>\n",
       "      <th>mean</th>\n",
       "      <td>6.557426e-03</td>\n",
       "      <td>-3.195460e-03</td>\n",
       "      <td>-1.461620e-02</td>\n",
       "    </tr>\n",
       "    <tr>\n",
       "      <th>std</th>\n",
       "      <td>9.848785e-01</td>\n",
       "      <td>9.881474e-01</td>\n",
       "      <td>9.964528e-01</td>\n",
       "    </tr>\n",
       "    <tr>\n",
       "      <th>min</th>\n",
       "      <td>-2.079821e+00</td>\n",
       "      <td>-3.873102e-01</td>\n",
       "      <td>-1.738467e+00</td>\n",
       "    </tr>\n",
       "    <tr>\n",
       "      <th>25%</th>\n",
       "      <td>-7.478647e-01</td>\n",
       "      <td>-3.767575e-01</td>\n",
       "      <td>-8.727772e-01</td>\n",
       "    </tr>\n",
       "    <tr>\n",
       "      <th>50%</th>\n",
       "      <td>-1.709713e-02</td>\n",
       "      <td>-2.430901e-01</td>\n",
       "      <td>-2.197521e-02</td>\n",
       "    </tr>\n",
       "    <tr>\n",
       "      <th>75%</th>\n",
       "      <td>6.672965e-01</td>\n",
       "      <td>-2.939801e-02</td>\n",
       "      <td>8.392883e-01</td>\n",
       "    </tr>\n",
       "    <tr>\n",
       "      <th>max</th>\n",
       "      <td>2.552685e+00</td>\n",
       "      <td>6.131166e+01</td>\n",
       "      <td>1.737771e+00</td>\n",
       "    </tr>\n",
       "  </tbody>\n",
       "</table>\n",
       "</div>"
      ],
      "text/plain": [
       "         anglez_std      enmo_std       sss_std\n",
       "count  1.040079e+07  1.040079e+07  1.040079e+07\n",
       "mean   6.557426e-03 -3.195460e-03 -1.461620e-02\n",
       "std    9.848785e-01  9.881474e-01  9.964528e-01\n",
       "min   -2.079821e+00 -3.873102e-01 -1.738467e+00\n",
       "25%   -7.478647e-01 -3.767575e-01 -8.727772e-01\n",
       "50%   -1.709713e-02 -2.430901e-01 -2.197521e-02\n",
       "75%    6.672965e-01 -2.939801e-02  8.392883e-01\n",
       "max    2.552685e+00  6.131166e+01  1.737771e+00"
      ]
     },
     "execution_count": 14,
     "metadata": {},
     "output_type": "execute_result"
    }
   ],
   "source": [
    "X_train.describe()"
   ]
  },
  {
   "cell_type": "code",
   "execution_count": 15,
   "metadata": {},
   "outputs": [],
   "source": [
    "file_path1 = 'C:/temp/X1.csv'\n",
    "file_path2 = 'C:/temp/y1.csv'\n",
    "file_path3 = 'C:/temp/X2.csv'\n",
    "file_path4 = 'C:/temp/y2.csv'\n",
    "X_train.to_csv(file_path1, index=False)\n",
    "y_train.to_csv(file_path2, index=False)\n",
    "X_test.to_csv(file_path3, index=False)\n",
    "y_test.to_csv(file_path4, index=False)"
   ]
  },
  {
   "cell_type": "code",
   "execution_count": 16,
   "metadata": {},
   "outputs": [],
   "source": [
    "X_train = pd.read_csv(file_path1)\n",
    "y_train = pd.read_csv(file_path2)\n",
    "X_test = pd.read_csv(file_path3)\n",
    "y_test = pd.read_csv(file_path4)"
   ]
  }
 ],
 "metadata": {
  "accelerator": "GPU",
  "colab": {
   "gpuType": "T4",
   "provenance": []
  },
  "kernelspec": {
   "display_name": "Python 3 (ipykernel)",
   "language": "python",
   "name": "python3"
  },
  "language_info": {
   "codemirror_mode": {
    "name": "ipython",
    "version": 3
   },
   "file_extension": ".py",
   "mimetype": "text/x-python",
   "name": "python",
   "nbconvert_exporter": "python",
   "pygments_lexer": "ipython3",
   "version": "3.11.4"
  }
 },
 "nbformat": 4,
 "nbformat_minor": 1
}
