{
 "cells": [
  {
   "cell_type": "markdown",
   "metadata": {},
   "source": [
    "# Johnny Stuto CS 575: PreProcessing 2\n",
    "\n",
    "## Neural Network Implementation \n",
    "\n",
    "### Problem Definition: Address the issue of sleep/wake prediction based on data from wrist health mon"
   ]
  },
  {
   "cell_type": "code",
   "execution_count": 1,
   "metadata": {},
   "outputs": [],
   "source": [
    "import numpy as np\n",
    "import gc\n",
    "from datetime import datetime\n",
    "import pandas as pd\n",
    "import matplotlib.pyplot as plt\n",
    "import warnings;warnings.simplefilter(action='ignore', category=Warning)"
   ]
  },
  {
   "cell_type": "code",
   "execution_count": 2,
   "metadata": {},
   "outputs": [],
   "source": [
    "file_path = 'C:/temp/clean_zzz.csv'\n",
    "zzz = pd.read_csv(file_path)"
   ]
  },
  {
   "cell_type": "code",
   "execution_count": 3,
   "metadata": {},
   "outputs": [],
   "source": [
    "# creating possible time covariates for model \n",
    "start_time = datetime.strptime(zzz['timestamp'].iloc[0], '%Y-%m-%dT%H:%M:%S%z')\n",
    "zzz['seconds_since_start'] = zzz['timestamp'].apply(lambda x: (datetime.strptime(x, '%Y-%m-%dT%H:%M:%S%z') - start_time).seconds)\n",
    "zzz = zzz.drop(columns=['timestamp', 'step'])"
   ]
  },
  {
   "cell_type": "code",
   "execution_count": 4,
   "metadata": {},
   "outputs": [],
   "source": [
    "# sorte by time series_id & seconds_since_start\n",
    "zzz_timesort = zzz.sort_values(by=['series_id', 'seconds_since_start'])"
   ]
  },
  {
   "cell_type": "markdown",
   "metadata": {},
   "source": [
    "Z-angle: corresponds to the angle between the accelerometer axis perpendicular to the skin surface and the horizontal plane.\n",
    "\n",
    "ENMO : The Euclidean Norm Minus One (ENMO) with negative values rounded to zero in g has been shown to correlate with the magnitude of acceleration and human energy expenditure16. ENMO is computed as follows:\n",
    "\n",
    "$ \\text{ENMO} = \\sqrt{x^2 + y^2 + z^2} - 1 $\n"
   ]
  },
  {
   "cell_type": "markdown",
   "metadata": {},
   "source": [
    "## Data Processing Overview\n",
    "\n",
    "### Feature Standardization\n",
    "- The features `anglez`, `enmo` (Euclidean Norm Minus One), and `seconds_since_start` are standardized by subtracting their mean and dividing by their standard deviation.\n",
    "  - **Standardized `anglez`**: `zzz_timesort['anglez_std']`\n",
    "  - **Standardized `enmo`**: `zzz_timesort['enmo_std']`\n",
    "  - **Standardized `seconds_since_start`**: `zzz_timesort['sss_std']`\n",
    "\n",
    "### Raw Features Creation\n",
    "- Original (raw) values of `anglez`, `enmo`, and `seconds_since_start` are stored in separate columns:\n",
    "  - **Raw `anglez`**: `zzz_timesort['anglez_raw']`\n",
    "  - **Raw `enmo`**: `zzz_timesort['enmo_raw']`\n",
    "  - **Raw `seconds_since_start`**: `zzz_timesort['sss_raw']`\n",
    "\n",
    "### Feature Selection\n",
    "- All standardized features (columns with 'std' in their name) are stored in `X`.\n",
    "- All raw features (columns with 'raw' in their name) are stored in `X_raw`.\n",
    "- The target variable `awake` is stored in `y`.\n",
    "\n",
    "### Data Splitting\n",
    "- Both standardized and raw datasets are split into training and testing subsets using a 79-21 split.\n",
    "  - **Standardized Data**:\n",
    "    - Training Data: `X_train`, `y_train`\n",
    "    - Testing Data: `X_test`, `y_test`\n",
    "  - **Raw Data**:\n",
    "    - Training Data: `X_tr`, `y_train`\n",
    "    - Testing Data: `X_te`, `y_test`\n",
    "\n"
   ]
  },
  {
   "cell_type": "code",
   "execution_count": 7,
   "metadata": {},
   "outputs": [],
   "source": [
    "# Standardize feats: time(seconds since session start),anglez & enmo(Euclidean Norm Minus One)\n",
    "zzz_timesort['anglez_std'] = (zzz_timesort['anglez'] - zzz_timesort['anglez'].mean()) / zzz_timesort['anglez'].std()\n",
    "zzz_timesort['enmo_std'] = (zzz_timesort['enmo'] - zzz_timesort['enmo'].mean()) / zzz_timesort['enmo'].std()\n",
    "zzz_timesort['sss_std'] = (zzz_timesort['seconds_since_start'] - zzz_timesort['seconds_since_start'].mean()) / zzz_timesort['seconds_since_start'].std()\n",
    "\n",
    "zzz_timesort['anglez_raw'] = (zzz_timesort['anglez'])\n",
    "zzz_timesort['enmo_raw'] = (zzz_timesort['enmo'])\n",
    "zzz_timesort['sss_raw'] = (zzz_timesort['seconds_since_start'])\n",
    "\n",
    "\n",
    "feats = [col for col in zzz_timesort.columns if 'std' in col]\n",
    "X = zzz_timesort[feats]\n",
    "y = zzz_timesort['awake']\n",
    "\n",
    "feats_raw = [col for col in zzz_timesort.columns if 'raw' in col]\n",
    "X_raw = zzz_timesort[feats_raw]\n",
    "\n",
    "# split the standardized data (79-21)\n",
    "train_size = int(0.79 * len(zzz_timesort))\n",
    "X_train, X_test = X.iloc[:train_size], X.iloc[train_size:]\n",
    "y_train, y_test = y.iloc[:train_size], y.iloc[train_size:]\n",
    "\n",
    "# split the raw data (79-21)\n",
    "X_tr, X_te = X_raw.iloc[:train_size], X_raw.iloc[train_size:]\n",
    "y_train, y_test = y.iloc[:train_size], y.iloc[train_size:]"
   ]
  },
  {
   "cell_type": "code",
   "execution_count": null,
   "metadata": {},
   "outputs": [],
   "source": []
  }
 ],
 "metadata": {
  "accelerator": "GPU",
  "colab": {
   "gpuType": "T4",
   "provenance": []
  },
  "kernelspec": {
   "display_name": "Python 3 (ipykernel)",
   "language": "python",
   "name": "python3"
  },
  "language_info": {
   "codemirror_mode": {
    "name": "ipython",
    "version": 3
   },
   "file_extension": ".py",
   "mimetype": "text/x-python",
   "name": "python",
   "nbconvert_exporter": "python",
   "pygments_lexer": "ipython3",
   "version": "3.9.17"
  }
 },
 "nbformat": 4,
 "nbformat_minor": 1
}
