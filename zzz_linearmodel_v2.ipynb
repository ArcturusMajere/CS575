{
 "cells": [
  {
   "cell_type": "code",
   "execution_count": 1,
   "metadata": {
    "colab": {
     "base_uri": "https://localhost:8080/"
    },
    "id": "q4mQ7jm9GW5k",
    "outputId": "9ad25e98-5e13-4183-f55c-0deb3803871b"
   },
   "outputs": [],
   "source": [
    "import numpy as np\n",
    "import pandas as pd\n",
    "\n",
    "file_path1 = 'C:/temp/X1.csv'\n",
    "file_path2 = 'C:/temp/y1.csv'\n",
    "file_path3 = 'C:/temp/X2.csv'\n",
    "file_path4 = 'C:/temp/y2.csv'\n",
    "\n",
    "X1 = pd.read_csv(file_path1);y1 = pd.read_csv(file_path2)\n",
    "X2 = pd.read_csv(file_path3);y2 = pd.read_csv(file_path4)\n",
    "X_train = np.array(X1);X_test = np.array(X2)\n",
    "y_train = np.array(y1).flatten();y_test = np.array(y2).flatten()"
   ]
  },
  {
   "cell_type": "code",
   "execution_count": 3,
   "metadata": {
    "colab": {
     "base_uri": "https://localhost:8080/"
    },
    "id": "6yPuAcpnU3-2",
    "outputId": "aa4f37a4-b7f3-41a5-cb71-324297f638d4"
   },
   "outputs": [
    {
     "name": "stdout",
     "output_type": "stream",
     "text": [
      "+------------+-------------------------+------------------+--------------+---------+-----------+------------+\n",
      "| Data       | Type                    | Shape            | MissingVals  | Size(MB)| Mean      | SD         |\n",
      "+------------+-------------------------+------------------+--------------+---------+-----------+------------+\n",
      "| X_train   | <class 'numpy.ndarray'>  | (10400792, 3)    | 0            | 238.06  | -0.00     | 0.99       |\n",
      "| y_train   | <class 'numpy.ndarray'>  | (10400792,)      | 0            | 79.35   | 0.66      | 0.47       |\n",
      "| X_test    | <class 'numpy.ndarray'>  | (2764768, 3)     | 0            | 63.28   | 0.01      | 1.04       |\n",
      "| y_test    | <class 'numpy.ndarray'>  | (2764768,)       | 0            | 21.09   | 0.64      | 0.48       |\n",
      "+------------+-------------------------+------------------+--------------+---------+-----------+------------+\n"
     ]
    }
   ],
   "source": [
    "# numpy only data peek\n",
    "\n",
    "def data_info(data):\n",
    "    missing_values = np.isnan(data).sum()\n",
    "    size_in_mb = data.nbytes / (1024 ** 2)\n",
    "    if len(data.shape) > 1:\n",
    "        mean = data.mean()\n",
    "        sd = data.std()\n",
    "    else:\n",
    "        mean = np.mean(data)\n",
    "        sd = np.std(data)\n",
    "    return missing_values, size_in_mb, mean, sd\n",
    "\n",
    "def data_summary(X_train, y_train, X_test, y_test):\n",
    "    header = \"+------------+-------------------------+------------------+--------------+---------+-----------+------------+\"\n",
    "    print(header)\n",
    "    print(\"| Data       | Type                    | Shape            | MissingVals  | Size(MB)| Mean      | SD         |\")\n",
    "    print(header)\n",
    "\n",
    "    for name, data in [(\"X_train\", X_train), (\"y_train\", y_train), (\"X_test\", X_test), (\"y_test\", y_test)]:\n",
    "        missing_values, size_in_mb, mean, sd = data_info(data)\n",
    "        print(\"| {:<9} | {:<24} | {:<16} | {:<12} | {:<7.2f} | {:<9.2f} | {:<10.2f} |\".format(\n",
    "            name, str(type(data)), str(data.shape), missing_values, size_in_mb, mean, sd))\n",
    "    print(header)\n",
    "\n",
    "\n",
    "data_summary(X_train, y_train, X_test, y_test)"
   ]
  },
  {
   "cell_type": "code",
   "execution_count": 22,
   "metadata": {
    "id": "0s09ZN77N8Sg"
   },
   "outputs": [],
   "source": [
    "# Metric Stuff\n",
    "\n",
    "def confusion_matrix(y_true, y_pred):\n",
    "    TP = np.sum((y_true == 1) & (y_pred == 1))\n",
    "    TN = np.sum((y_true == 0) & (y_pred == 0))\n",
    "    FP = np.sum((y_true == 0) & (y_pred == 1))\n",
    "    FN = np.sum((y_true == 1) & (y_pred == 0))\n",
    "    return TP, TN, FP, FN\n",
    "\n",
    "def accuracy(TP, TN, FP, FN):\n",
    "    return (TP + TN) / (TP + TN + FP + FN)\n",
    "\n",
    "def specificity(TN, FP):\n",
    "    return TN / (TN + FP)\n",
    "\n",
    "def sensitivity(TP, FN):\n",
    "    return TP / (TP + FN)\n",
    "\n",
    "def f1_score(TP, FP, FN):\n",
    "    precision = TP / (TP + FP)\n",
    "    recall = TP / (TP + FN)\n",
    "    return 2 * (precision * recall) / (precision + recall)\n",
    "\n",
    "def print_confusion_matrix(TP, TN, FP, FN):\n",
    "    head_cm = \"+-----------------+------------+------+\"\n",
    "    print(head_cm)\n",
    "    print(\"|                 | Predicted        |\")\n",
    "    print(\"| Actual          |      0    |   1  |\")\n",
    "    print(head_cm)\n",
    "    print(\"| 0               | {:<5} | {:<5}   |\".format(TN, FP))\n",
    "    print(\"| 1               | {:<5} | {:<5}  |\".format(FN, TP))\n",
    "    print(head_cm)\n",
    "    print()\n",
    "\n",
    "def metrics(y_true, y_pred):\n",
    "    TP, TN, FP, FN = confusion_matrix(y_true, y_pred)\n",
    "    acc = accuracy(TP, TN, FP, FN)\n",
    "    spec = specificity(TN, FP)\n",
    "    sens = sensitivity(TP, FN)\n",
    "    f1 = f1_score(TP, FP, FN)\n",
    "\n",
    "    print_confusion_matrix(TP, TN, FP, FN)\n",
    "    head = \"+--------------+------------+\"\n",
    "    print(head)\n",
    "    print(\"| Metric       | Value      |\")\n",
    "    print(head)\n",
    "    print(\"| Accuracy     | {:10.4f} |\".format(acc))\n",
    "    print(\"| Specificity  | {:10.4f} |\".format(spec))\n",
    "    print(\"| Sensitivity  | {:10.4f} |\".format(sens))\n",
    "    print(\"| F1 Score     | {:10.4f} |\".format(f1))\n",
    "    print(head)\n",
    "   "
   ]
  },
  {
   "cell_type": "code",
   "execution_count": 4,
   "metadata": {
    "id": "GEbHhMSnGR3T"
   },
   "outputs": [],
   "source": [
    "# Binary target: logisitic regression which is acutally classificaiton.\n",
    "\n",
    "class LogisticRegression:\n",
    "\n",
    "    def __init__(self, lr=0.01, num_iter=1000):\n",
    "        self.lr = lr\n",
    "        self.num_iter = num_iter\n",
    "\n",
    "    def sigmoid(self, z):\n",
    "        return 1 / (1 + np.exp(-z))\n",
    "\n",
    "    def fit(self, X, y):\n",
    "        # initialization of weights\n",
    "        self.theta = np.zeros(X.shape[1])\n",
    "        self.bias = 0\n",
    "\n",
    "        for i in range(self.num_iter):\n",
    "            model = np.dot(X, self.theta) + self.bias\n",
    "            predictions = self.sigmoid(model)\n",
    "\n",
    "            # compute gradient\n",
    "            d_theta = (1 / len(X)) * np.dot(X.T, (predictions - y))\n",
    "            d_bias = (1 / len(X)) * np.sum(predictions - y)\n",
    "\n",
    "            # update my weights\n",
    "            self.theta -= self.lr * d_theta\n",
    "            self.bias -= self.lr * d_bias\n",
    "\n",
    "    def predict_prob(self, X):\n",
    "        return self.sigmoid(np.dot(X, self.theta) + self.bias)\n",
    "\n",
    "    def predict(self, X, threshold=0.5):\n",
    "        return (self.predict_prob(X) >= threshold).astype(int)"
   ]
  },
  {
   "cell_type": "code",
   "execution_count": 24,
   "metadata": {
    "colab": {
     "base_uri": "https://localhost:8080/",
     "height": 366
    },
    "id": "rGHjxDFMGR3T",
    "outputId": "5ec07e9a-77b7-42c5-ce20-33f2241101af"
   },
   "outputs": [
    {
     "name": "stdout",
     "output_type": "stream",
     "text": [
      "+-----------------+------------+------+\n",
      "|                 | Predicted        |\n",
      "| Actual          |      0    |   1  |\n",
      "+-----------------+------------+------+\n",
      "| 0               | 752363 | 229976   |\n",
      "| 1               | 301596 | 1480833  |\n",
      "+-----------------+------------+------+\n",
      "\n",
      "+--------------+------------+\n",
      "| Metric       | Value      |\n",
      "+--------------+------------+\n",
      "| Accuracy     |     0.8077 |\n",
      "| Specificity  |     0.7659 |\n",
      "| Sensitivity  |     0.8308 |\n",
      "| F1 Score     |     0.8478 |\n",
      "+--------------+------------+\n"
     ]
    }
   ],
   "source": [
    "# logistic Execution & metric call\n",
    "model_logreg = LogisticRegression(lr=0.01, num_iter=1000)\n",
    "model_logreg.fit(X_train, y_train)\n",
    "y_pred_logreg = model_logreg.predict(X_test)\n",
    "metrics(y_test, y_pred_logreg)"
   ]
  },
  {
   "cell_type": "code",
   "execution_count": 28,
   "metadata": {},
   "outputs": [
    {
     "name": "stdout",
     "output_type": "stream",
     "text": [
      "mean squared error:  58.75265901716664\n"
     ]
    }
   ],
   "source": [
    "def compute_cost(X, y, theta):\n",
    "    m = len(y)\n",
    "    cost = (1/2*m) * np.sum(np.square(X.dot(theta) - y))\n",
    "    return cost\n",
    "\n",
    "def gradient_descent(X, y, theta, learning_rate, iterations):\n",
    "    m = len(y)\n",
    "    cost_history = np.zeros(iterations)\n",
    "    \n",
    "    for i in range(iterations):\n",
    "        theta = theta - (1/m) * learning_rate * (X.T.dot(X.dot(theta) - y))\n",
    "        cost_history[i] = compute_cost(X, y, theta)\n",
    "    \n",
    "    return theta, cost_history\n",
    "\n",
    "# initial coeffx w/intercept)\n",
    "theta = np.zeros(X_train.shape[1])\n",
    "\n",
    "# abritrary gradient-descent settings\n",
    "iters = 200\n",
    "lr = 0.01\n",
    "\n",
    "# Run gradient-descent\n",
    "theta, cost_history = gradient_descent(X_train, y_train, theta, lr, iters)\n",
    "\n",
    "pred = X_test.dot(theta)\n",
    "mae = np.mean(np.abs(pred - y_test))\n",
    "mse = np.mean((pred - y_test)**2)\n",
    "rmse = np.sqrt(np.mean((pred - y_test)**2))\n",
    "ss_res = np.sum((pred - y_test)**2)\n",
    "ss_tot = np.sum((y_test - np.mean(y_test))**2)\n",
    "r2 = 1 - (ss_res / ss_tot)\n",
    "\n",
    "print(\"mean squared error: \",mse*100)"
   ]
  },
  {
   "cell_type": "code",
   "execution_count": null,
   "metadata": {},
   "outputs": [],
   "source": []
  }
 ],
 "metadata": {
  "colab": {
   "provenance": []
  },
  "kernelspec": {
   "display_name": "Python 3 (ipykernel)",
   "language": "python",
   "name": "python3"
  },
  "language_info": {
   "codemirror_mode": {
    "name": "ipython",
    "version": 3
   },
   "file_extension": ".py",
   "mimetype": "text/x-python",
   "name": "python",
   "nbconvert_exporter": "python",
   "pygments_lexer": "ipython3",
   "version": "3.11.4"
  }
 },
 "nbformat": 4,
 "nbformat_minor": 1
}
