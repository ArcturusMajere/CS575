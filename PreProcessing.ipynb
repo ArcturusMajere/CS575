{
 "cells": [
  {
   "cell_type": "markdown",
   "metadata": {},
   "source": [
    "# Johnny Stuto CS 575: PreProcessing 1\n",
    "\n",
    "## Neural Network Implementation \n",
    "\n",
    "### Problem Definition: Address the issue of sleep/wake prediction based on data from wrist health mon"
   ]
  },
  {
   "cell_type": "markdown",
   "metadata": {},
   "source": [
    "- the dataset is a substantial 1 TB time series representing approximately 35 individuals.\n",
    "- Parquet is an open source file format built to handle flat columnar storage data formats. \n",
    "- Parquet works great with large, complex data and is known for its data compression and ability many encoding types.\n",
    "- Data found: https://www.kaggle.com/competitions/child-mind-institute-detect-sleep-states/data\n",
    "- size: 986.46 MB"
   ]
  },
  {
   "cell_type": "code",
   "execution_count": 1,
   "metadata": {},
   "outputs": [],
   "source": [
    "import numpy as np\n",
    "import gc;from datetime import datetime;import pandas as pd\n",
    "import warnings;warnings.simplefilter(action='ignore', category=Warning)"
   ]
  },
  {
   "cell_type": "code",
   "execution_count": 2,
   "metadata": {
    "id": "IeBlBCN42ogA",
    "scrolled": true
   },
   "outputs": [],
   "source": [
    "train_parquet_path = \"train_series.parquet\"\n",
    "test_parquet_path = \"test_series.parquet\"\n",
    "train_events_path = \"train_events.csv\"\n",
    "train_series = pd.read_parquet(train_parquet_path)\n",
    "test_series = pd.read_parquet(test_parquet_path)\n",
    "train_events = pd.read_csv(train_events_path)"
   ]
  },
  {
   "cell_type": "code",
   "execution_count": 3,
   "metadata": {},
   "outputs": [],
   "source": [
    "series_NaN = train_events.groupby('series_id')['step'].apply(lambda x: x.isnull().any())\n",
    "#series_has_NaN.value_counts()\n",
    "non_NaN_series = series_NaN[~series_NaN].index.tolist()\n",
    " # known incomplete events data:31011ade7c0a,a596ad0b82aa\n",
    "non_NaN_series.remove('31011ade7c0a')\n",
    "non_NaN_series.remove('a596ad0b82aa') "
   ]
  },
  {
   "cell_type": "markdown",
   "metadata": {},
   "source": [
    "## Function Overview: `train_genny(series)`\n",
    "\n",
    "### Purpose\n",
    "- To fetch and clean training data for a specific series ID.\n",
    "\n",
    "### Steps\n",
    "1. **Data Reading**:\n",
    "    - Reads from `train_series.parquet` to obtain training series data for the provided series ID.\n",
    "    - Fetches event data from `train_events.csv` and filters it for the specified series ID.\n",
    "\n",
    "2. **Data Cleaning**:\n",
    "    - Drops NaN values from the event data.\n",
    "    - Converts the `step` column to an integer and the `event` column to binary values representing awake/asleep.\n",
    "\n",
    "3. **Data Merging**:\n",
    "    - Joins the series and event data based on the \"step\" column.\n",
    "    - Backfills any NaN values in the `awake` column.\n",
    "    \n",
    "4. **Final Adjustments**:\n",
    "    - Fills any residual NaN values in the `awake` column with 1 (indicating the subject is awake).\n",
    "    - Converts the `awake` column to an integer type.\n",
    "\n",
    "5. **Return**:\n",
    "    - Returns the cleaned training data.\n",
    "\n"
   ]
  },
  {
   "cell_type": "code",
   "execution_count": 4,
   "metadata": {},
   "outputs": [],
   "source": [
    "def train_genny(series):\n",
    "    train_series = pd.read_parquet(\"train_series.parquet\", filters=[('series_id','=',series)])\n",
    "    train_events = pd.read_csv(\"train_events.csv\").query('series_id == @series')\n",
    "    train_events = train_events.dropna()\n",
    "    train_events[\"step\"]  = train_events[\"step\"].astype(\"int\")\n",
    "    train_events[\"awake\"] = train_events[\"event\"].replace({\"onset\":1,\"wakeup\":0})\n",
    "    train = pd.merge(train_series, train_events[['step','awake']], on='step', how='left')\n",
    "    train[\"awake\"] = train[\"awake\"].bfill(axis ='rows')\n",
    "    train['awake'] = train['awake'].fillna(1)  \n",
    "    train[\"awake\"] = train[\"awake\"].astype(\"int\")\n",
    "    return(train)\n",
    "clean_data = []\n",
    "for series_id in non_NaN_series:\n",
    "    train = train_genny(series_id)\n",
    "    clean_data.append(train)\n",
    "    del train\n",
    "    gc.collect(); #memory help !"
   ]
  },
  {
   "cell_type": "code",
   "execution_count": 5,
   "metadata": {
    "colab": {
     "base_uri": "https://localhost:8080/"
    },
    "id": "dSCBJ2Vy5LM8",
    "outputId": "224203d3-7101-4b59-9785-71ff5e59a66f"
   },
   "outputs": [
    {
     "name": "stdout",
     "output_type": "stream",
     "text": [
      "35 indivudual sleep training series\n"
     ]
    }
   ],
   "source": [
    "Zzzs_train = pd.concat(clean_data).reset_index(drop=True)\n",
    "print(Zzzs_train[\"series_id\"].nunique(), \"indivudual sleep training series\")"
   ]
  },
  {
   "cell_type": "code",
   "execution_count": 23,
   "metadata": {},
   "outputs": [],
   "source": [
    "# creating possible time covariates for model \n",
    "start_time = datetime.strptime(zzz['timestamp'].iloc[0], '%Y-%m-%dT%H:%M:%S%z')\n",
    "zzz['seconds_since_start'] = zzz['timestamp'].apply(lambda x: (datetime.strptime(x, '%Y-%m-%dT%H:%M:%S%z') - start_time).seconds)\n",
    "zzz = zzz.drop(columns=['timestamp', 'step'])"
   ]
  },
  {
   "cell_type": "code",
   "execution_count": null,
   "metadata": {},
   "outputs": [],
   "source": [
    "# sorte by time series_id & seconds_since_start\n",
    "zzz_timesort = zzz.sort_values(by=['series_id', 'seconds_since_start'])"
   ]
  },
  {
   "cell_type": "markdown",
   "metadata": {},
   "source": [
    "Z-angle: corresponds to the angle between the accelerometer axis perpendicular to the skin surface and the horizontal plane.\n",
    "\n",
    "ENMO : The Euclidean Norm Minus One (ENMO) with negative values rounded to zero in g has been shown to correlate with the magnitude of acceleration and human energy expenditure16. ENMO is computed as follows:\n",
    "\n",
    "$ \\text{ENMO} = \\sqrt{x^2 + y^2 + z^2} - 1 $\n"
   ]
  },
  {
   "cell_type": "markdown",
   "metadata": {},
   "source": [
    "## Data Processing Overview\n",
    "\n",
    "### Feature Standardization\n",
    "- The features `anglez`, `enmo` (Euclidean Norm Minus One), and `seconds_since_start` are standardized by subtracting their mean and dividing by their standard deviation.\n",
    "  - **Standardized `anglez`**: `zzz_timesort['anglez_std']`\n",
    "  - **Standardized `enmo`**: `zzz_timesort['enmo_std']`\n",
    "  - **Standardized `seconds_since_start`**: `zzz_timesort['sss_std']`\n",
    "\n",
    "### Raw Features Creation\n",
    "- Original (raw) values of `anglez`, `enmo`, and `seconds_since_start` are stored in separate columns:\n",
    "  - **Raw `anglez`**: `zzz_timesort['anglez_raw']`\n",
    "  - **Raw `enmo`**: `zzz_timesort['enmo_raw']`\n",
    "  - **Raw `seconds_since_start`**: `zzz_timesort['sss_raw']`\n",
    "\n",
    "### Feature Selection\n",
    "- All standardized features (columns with 'std' in their name) are stored in `X`.\n",
    "- All raw features (columns with 'raw' in their name) are stored in `X_raw`.\n",
    "- The target variable `awake` is stored in `y`.\n",
    "\n"
   ]
  },
  {
   "cell_type": "code",
   "execution_count": null,
   "metadata": {},
   "outputs": [],
   "source": [
    "# Standardize feats: time(seconds since session start),anglez & enmo(Euclidean Norm Minus One)\n",
    "zzz_timesort['anglez_std'] = (zzz_timesort['anglez'] - zzz_timesort['anglez'].mean()) / zzz_timesort['anglez'].std()\n",
    "zzz_timesort['enmo_std'] = (zzz_timesort['enmo'] - zzz_timesort['enmo'].mean()) / zzz_timesort['enmo'].std()\n",
    "zzz_timesort['sss_std'] = (zzz_timesort['seconds_since_start'] - zzz_timesort['seconds_since_start'].mean()) / zzz_timesort['seconds_since_start'].std()\n",
    "\n",
    "zzz_timesort['anglez_raw'] = (zzz_timesort['anglez'])\n",
    "zzz_timesort['enmo_raw'] = (zzz_timesort['enmo'])\n",
    "zzz_timesort['sss_raw'] = (zzz_timesort['seconds_since_start'])\n",
    "\n",
    "\n",
    "feats = [col for col in zzz_timesort.columns if 'std' in col]\n",
    "X = zzz_timesort[feats]\n",
    "y = zzz_timesort['awake']\n",
    "\n",
    "feats_raw = [col for col in zzz_timesort.columns if 'raw' in col]\n",
    "X_raw = zzz_timesort[feats_raw]\n"
   ]
  }
 ],
 "metadata": {
  "accelerator": "GPU",
  "colab": {
   "gpuType": "T4",
   "provenance": []
  },
  "kernelspec": {
   "display_name": "Python 3 (ipykernel)",
   "language": "python",
   "name": "python3"
  },
  "language_info": {
   "codemirror_mode": {
    "name": "ipython",
    "version": 3
   },
   "file_extension": ".py",
   "mimetype": "text/x-python",
   "name": "python",
   "nbconvert_exporter": "python",
   "pygments_lexer": "ipython3",
   "version": "3.11.4"
  }
 },
 "nbformat": 4,
 "nbformat_minor": 1
}
