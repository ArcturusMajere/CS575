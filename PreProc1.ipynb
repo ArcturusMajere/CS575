{
 "cells": [
  {
   "cell_type": "code",
   "execution_count": 1,
   "metadata": {},
   "outputs": [],
   "source": [
    "import numpy as np\n",
    "import gc;from datetime import datetime;import pandas as pd\n",
    "import warnings;warnings.simplefilter(action='ignore', category=Warning)"
   ]
  },
  {
   "cell_type": "code",
   "execution_count": 2,
   "metadata": {
    "id": "IeBlBCN42ogA",
    "scrolled": true
   },
   "outputs": [],
   "source": [
    "train_parquet_path = \"train_series.parquet\"\n",
    "test_parquet_path = \"test_series.parquet\"\n",
    "train_events_path = \"train_events.csv\"\n",
    "train_series = pd.read_parquet(train_parquet_path)\n",
    "test_series = pd.read_parquet(test_parquet_path)\n",
    "train_events = pd.read_csv(train_events_path)"
   ]
  },
  {
   "cell_type": "code",
   "execution_count": 3,
   "metadata": {},
   "outputs": [],
   "source": [
    "series_has_NaN = train_events.groupby('series_id')['step'].apply(lambda x: x.isnull().any())\n",
    "#series_has_NaN.value_counts()\n",
    "no_NaN_series = series_has_NaN[~series_has_NaN].index.tolist()\n",
    " # incomplete events data\n",
    "no_NaN_series.remove('31011ade7c0a')\n",
    "no_NaN_series.remove('a596ad0b82aa') "
   ]
  },
  {
   "cell_type": "code",
   "execution_count": 4,
   "metadata": {},
   "outputs": [],
   "source": [
    "def get_train_series(series):\n",
    "    train_series = pd.read_parquet(\"train_series.parquet\", filters=[('series_id','=',series)])\n",
    "    train_events = pd.read_csv(\"train_events.csv\").query('series_id == @series')\n",
    "    train_events = train_events.dropna()\n",
    "    train_events[\"step\"]  = train_events[\"step\"].astype(\"int\")\n",
    "    train_events[\"awake\"] = train_events[\"event\"].replace({\"onset\":1,\"wakeup\":0})\n",
    "    train = pd.merge(train_series, train_events[['step','awake']], on='step', how='left')\n",
    "    train[\"awake\"] = train[\"awake\"].bfill(axis ='rows')\n",
    "    # final section:\n",
    "    #train_events.groupby('series_id').tail(1)[\"event\"].unique()\n",
    "    # Result: the last event is always a \"wakeup\"\n",
    "    train['awake'] = train['awake'].fillna(1) # awake\n",
    "    train[\"awake\"] = train[\"awake\"].astype(\"int\")\n",
    "    return(train)\n",
    "clean_train_data = []\n",
    "for series_id in no_NaN_series:\n",
    "    train = get_train_series(series_id)\n",
    "    clean_train_data.append(train)\n",
    "    del train\n",
    "    gc.collect();"
   ]
  },
  {
   "cell_type": "code",
   "execution_count": 5,
   "metadata": {
    "colab": {
     "base_uri": "https://localhost:8080/"
    },
    "id": "dSCBJ2Vy5LM8",
    "outputId": "224203d3-7101-4b59-9785-71ff5e59a66f"
   },
   "outputs": [
    {
     "name": "stdout",
     "output_type": "stream",
     "text": [
      "35 indivudual sleep training series\n"
     ]
    }
   ],
   "source": [
    "Zzzs_train = pd.concat(clean_train_data).reset_index(drop=True)\n",
    "print(Zzzs_train[\"series_id\"].nunique(), \"indivudual sleep training series\")"
   ]
  },
  {
   "cell_type": "code",
   "execution_count": 23,
   "metadata": {},
   "outputs": [],
   "source": [
    "file_path = 'C:/temp/clean_zzz.csv'\n",
    "Zzzs_train.to_csv(file_path, index=False)  # index=False prevents pandas from writing row indices"
   ]
  }
 ],
 "metadata": {
  "accelerator": "GPU",
  "colab": {
   "gpuType": "T4",
   "provenance": []
  },
  "kernelspec": {
   "display_name": "Python 3 (ipykernel)",
   "language": "python",
   "name": "python3"
  },
  "language_info": {
   "codemirror_mode": {
    "name": "ipython",
    "version": 3
   },
   "file_extension": ".py",
   "mimetype": "text/x-python",
   "name": "python",
   "nbconvert_exporter": "python",
   "pygments_lexer": "ipython3",
   "version": "3.11.4"
  }
 },
 "nbformat": 4,
 "nbformat_minor": 1
}
