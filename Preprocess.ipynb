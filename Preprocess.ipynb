{
 "cells": [
  {
   "cell_type": "code",
   "execution_count": 2,
   "id": "65937e7c",
   "metadata": {},
   "outputs": [],
   "source": [
    "import numpy as np\n",
    "import gc;from datetime import datetime;import pandas as pd\n",
    "import warnings;warnings.simplefilter(action='ignore', category=Warning)"
   ]
  },
  {
   "cell_type": "markdown",
   "id": "d1ba9461",
   "metadata": {},
   "source": [
    "https://www.kaggle.com/competitions/child-mind-institute-detect-sleep-states/data"
   ]
  },
  {
   "cell_type": "code",
   "execution_count": null,
   "id": "8f5a7cab",
   "metadata": {},
   "outputs": [],
   "source": [
    "train_parquet_path = \"train_series.parquet\"\n",
    "test_parquet_path = \"test_series.parquet\"\n",
    "train_events_path = \"train_events.csv\"\n",
    "train_series = pd.read_parquet(train_parquet_path)\n",
    "test_series = pd.read_parquet(test_parquet_path)\n",
    "train_events = pd.read_csv(train_events_path)"
   ]
  },
  {
   "cell_type": "code",
   "execution_count": null,
   "id": "d426d685",
   "metadata": {},
   "outputs": [],
   "source": [
    "series_has_NaN = train_events.groupby('series_id')['step'].apply(lambda x: x.isnull().any())\n",
    "#series_has_NaN.value_counts()\n",
    "no_NaN_series = series_has_NaN[~series_has_NaN].index.tolist()\n",
    " # incomplete events data\n",
    "no_NaN_series.remove('31011ade7c0a')\n",
    "no_NaN_series.remove('a596ad0b82aa') "
   ]
  },
  {
   "cell_type": "code",
   "execution_count": null,
   "id": "7ea02cea",
   "metadata": {},
   "outputs": [],
   "source": [
    "def get_train_series(series):\n",
    "    train_series = pd.read_parquet(\"train_series.parquet\", filters=[('series_id','=',series)])\n",
    "    train_events = pd.read_csv(\"train_events.csv\").query('series_id == @series')\n",
    "    train_events = train_events.dropna()\n",
    "    train_events[\"step\"]  = train_events[\"step\"].astype(\"int\")\n",
    "    train_events[\"awake\"] = train_events[\"event\"].replace({\"onset\":1,\"wakeup\":0})\n",
    "    train = pd.merge(train_series, train_events[['step','awake']], on='step', how='left')\n",
    "    train[\"awake\"] = train[\"awake\"].bfill(axis ='rows')\n",
    "    # final section:\n",
    "    #train_events.groupby('series_id').tail(1)[\"event\"].unique()\n",
    "    # Result: the last event is always a \"wakeup\"\n",
    "    train['awake'] = train['awake'].fillna(1) # awake\n",
    "    train[\"awake\"] = train[\"awake\"].astype(\"int\")\n",
    "    return(train)\n",
    "clean_train_data = []\n",
    "for series_id in no_NaN_series:\n",
    "    train = get_train_series(series_id)\n",
    "    clean_train_data.append(train)\n",
    "    del train\n",
    "    gc.collect();"
   ]
  },
  {
   "cell_type": "code",
   "execution_count": null,
   "id": "050f265f",
   "metadata": {},
   "outputs": [],
   "source": [
    "Zzzs_train = pd.concat(clean_train_data).reset_index(drop=True)\n",
    "print(Zzzs_train[\"series_id\"].nunique(), \"indivudual sleep training series\")"
   ]
  },
  {
   "cell_type": "code",
   "execution_count": 3,
   "id": "08011c2c",
   "metadata": {},
   "outputs": [],
   "source": [
    "file_path = 'C:/temp/clean_zzz.csv'\n",
    "#Zzzs_train.to_csv(file_path, index=False)\n",
    "zzz = pd.read_csv(file_path)"
   ]
  },
  {
   "cell_type": "code",
   "execution_count": 4,
   "id": "152ba966",
   "metadata": {},
   "outputs": [
    {
     "data": {
      "text/html": [
       "<div>\n",
       "<style scoped>\n",
       "    .dataframe tbody tr th:only-of-type {\n",
       "        vertical-align: middle;\n",
       "    }\n",
       "\n",
       "    .dataframe tbody tr th {\n",
       "        vertical-align: top;\n",
       "    }\n",
       "\n",
       "    .dataframe thead th {\n",
       "        text-align: right;\n",
       "    }\n",
       "</style>\n",
       "<table border=\"1\" class=\"dataframe\">\n",
       "  <thead>\n",
       "    <tr style=\"text-align: right;\">\n",
       "      <th></th>\n",
       "      <th>series_id</th>\n",
       "      <th>step</th>\n",
       "      <th>timestamp</th>\n",
       "      <th>anglez</th>\n",
       "      <th>enmo</th>\n",
       "      <th>awake</th>\n",
       "      <th>seconds_since_start</th>\n",
       "    </tr>\n",
       "  </thead>\n",
       "  <tbody>\n",
       "    <tr>\n",
       "      <th>0</th>\n",
       "      <td>08db4255286f</td>\n",
       "      <td>0</td>\n",
       "      <td>2018-11-05T10:00:00-0400</td>\n",
       "      <td>-30.8453</td>\n",
       "      <td>0.0447</td>\n",
       "      <td>1</td>\n",
       "      <td>0</td>\n",
       "    </tr>\n",
       "    <tr>\n",
       "      <th>1</th>\n",
       "      <td>08db4255286f</td>\n",
       "      <td>1</td>\n",
       "      <td>2018-11-05T10:00:05-0400</td>\n",
       "      <td>-34.1818</td>\n",
       "      <td>0.0443</td>\n",
       "      <td>1</td>\n",
       "      <td>5</td>\n",
       "    </tr>\n",
       "    <tr>\n",
       "      <th>2</th>\n",
       "      <td>08db4255286f</td>\n",
       "      <td>2</td>\n",
       "      <td>2018-11-05T10:00:10-0400</td>\n",
       "      <td>-33.8771</td>\n",
       "      <td>0.0483</td>\n",
       "      <td>1</td>\n",
       "      <td>10</td>\n",
       "    </tr>\n",
       "    <tr>\n",
       "      <th>3</th>\n",
       "      <td>08db4255286f</td>\n",
       "      <td>3</td>\n",
       "      <td>2018-11-05T10:00:15-0400</td>\n",
       "      <td>-34.2821</td>\n",
       "      <td>0.0680</td>\n",
       "      <td>1</td>\n",
       "      <td>15</td>\n",
       "    </tr>\n",
       "    <tr>\n",
       "      <th>4</th>\n",
       "      <td>08db4255286f</td>\n",
       "      <td>4</td>\n",
       "      <td>2018-11-05T10:00:20-0400</td>\n",
       "      <td>-34.3858</td>\n",
       "      <td>0.0768</td>\n",
       "      <td>1</td>\n",
       "      <td>20</td>\n",
       "    </tr>\n",
       "  </tbody>\n",
       "</table>\n",
       "</div>"
      ],
      "text/plain": [
       "      series_id  step                 timestamp   anglez    enmo  awake  \\\n",
       "0  08db4255286f     0  2018-11-05T10:00:00-0400 -30.8453  0.0447      1   \n",
       "1  08db4255286f     1  2018-11-05T10:00:05-0400 -34.1818  0.0443      1   \n",
       "2  08db4255286f     2  2018-11-05T10:00:10-0400 -33.8771  0.0483      1   \n",
       "3  08db4255286f     3  2018-11-05T10:00:15-0400 -34.2821  0.0680      1   \n",
       "4  08db4255286f     4  2018-11-05T10:00:20-0400 -34.3858  0.0768      1   \n",
       "\n",
       "   seconds_since_start  \n",
       "0                    0  \n",
       "1                    5  \n",
       "2                   10  \n",
       "3                   15  \n",
       "4                   20  "
      ]
     },
     "execution_count": 4,
     "metadata": {},
     "output_type": "execute_result"
    }
   ],
   "source": [
    "zzz.head()"
   ]
  },
  {
   "cell_type": "code",
   "execution_count": null,
   "id": "8b2bd21f",
   "metadata": {},
   "outputs": [],
   "source": [
    "# creating possible time covariates for model \n",
    "start_time = datetime.strptime(zzz['timestamp'].iloc[0], '%Y-%m-%dT%H:%M:%S%z')\n",
    "zzz['seconds_since_start'] = zzz['timestamp'].apply(lambda x: (datetime.strptime(x, '%Y-%m-%dT%H:%M:%S%z') - start_time).seconds)\n",
    "zzz = zzz.drop(columns=['timestamp', 'step'])"
   ]
  },
  {
   "cell_type": "code",
   "execution_count": null,
   "id": "29b66cd1",
   "metadata": {},
   "outputs": [],
   "source": [
    "# sorte by series_id & seconds_since_start\n",
    "zzz_sorted = zzz.sort_values(by=['series_id', 'seconds_since_start'])\n",
    "\n",
    "# Standardize feats: anglez & enmo \n",
    "zzz_sorted['anglez_stand'] = (zzz_sorted['anglez'] - zzz_sorted['anglez'].mean()) / zzz_sorted['anglez'].std()\n",
    "zzz_sorted['enmo_stand'] = (zzz_sorted['enmo'] - zzz_sorted['enmo'].mean()) / zzz_sorted['enmo'].std()\n",
    "\n",
    "# #set for Linear Model\n",
    "feats = [col for col in zzz_sorted.columns if 'stand' in col]\n",
    "X = zzz_sorted[feats]\n",
    "y = zzz_sorted['awake']\n",
    "\n",
    "# split the data (79-21)\n",
    "train_size = int(0.79 * len(zzz_sorted))\n",
    "X_train, X_test = X.iloc[:train_size], X.iloc[train_size:]\n",
    "y_train, y_test = y.iloc[:train_size], y.iloc[train_size:]"
   ]
  },
  {
   "cell_type": "code",
   "execution_count": null,
   "id": "50fee3ef",
   "metadata": {},
   "outputs": [],
   "source": [
    "file_path1 = 'C:/temp/X_train.csv'\n",
    "file_path2 = 'C:/temp/y_train.csv'\n",
    "file_path3 = 'C:/temp/X_test.csv'\n",
    "file_path4 = 'C:/temp/y_test.csv'\n",
    "X_train.to_csv(file_path1, index=False)\n",
    "y_train.to_csv(file_path2, index=False)\n",
    "X_test.to_csv(file_path3, index=False)\n",
    "y_test.to_csv(file_path4, index=False)"
   ]
  }
 ],
 "metadata": {
  "kernelspec": {
   "display_name": "Python 3 (ipykernel)",
   "language": "python",
   "name": "python3"
  },
  "language_info": {
   "codemirror_mode": {
    "name": "ipython",
    "version": 3
   },
   "file_extension": ".py",
   "mimetype": "text/x-python",
   "name": "python",
   "nbconvert_exporter": "python",
   "pygments_lexer": "ipython3",
   "version": "3.11.4"
  }
 },
 "nbformat": 4,
 "nbformat_minor": 5
}
